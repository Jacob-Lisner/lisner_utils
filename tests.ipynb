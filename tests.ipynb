{
 "cells": [
  {
   "cell_type": "code",
   "execution_count": 8,
   "metadata": {},
   "outputs": [
    {
     "name": "stdout",
     "output_type": "stream",
     "text": [
      "Listing 'c:\\\\Users\\\\Jacob_Lisner\\\\Documents\\\\GitHub\\\\lisner_utils2'...\n",
      "Compiling 'c:\\\\Users\\\\Jacob_Lisner\\\\Documents\\\\GitHub\\\\lisner_utils2\\\\lexicon.py'...\n",
      "Compiling 'c:\\\\Users\\\\Jacob_Lisner\\\\Documents\\\\GitHub\\\\lisner_utils2\\\\lexicon_counter.py'...\n",
      "Compiling 'c:\\\\Users\\\\Jacob_Lisner\\\\Documents\\\\GitHub\\\\lisner_utils2\\\\multi_process_dump.py'...\n",
      "Listing 'c:\\\\Users\\\\Jacob_Lisner\\\\anaconda3\\\\python39.zip'...\n",
      "Can't list 'c:\\\\Users\\\\Jacob_Lisner\\\\anaconda3\\\\python39.zip'\n",
      "Listing 'c:\\\\Users\\\\Jacob_Lisner\\\\anaconda3\\\\DLLs'...\n",
      "Listing 'c:\\\\Users\\\\Jacob_Lisner\\\\anaconda3\\\\lib'...\n",
      "Listing 'c:\\\\Users\\\\Jacob_Lisner\\\\anaconda3'...\n",
      "Listing 'C:\\\\Users\\\\Jacob_Lisner\\\\AppData\\\\Roaming\\\\Python\\\\Python39\\\\site-packages'...\n",
      "Listing 'C:\\\\Users\\\\Jacob_Lisner\\\\AppData\\\\Roaming\\\\Python\\\\Python39\\\\site-packages\\\\web-0.0.1-py3.9.egg'...\n",
      "Listing 'c:\\\\Users\\\\Jacob_Lisner\\\\anaconda3\\\\lib\\\\site-packages'...\n",
      "Listing 'C:\\\\Users\\\\Jacob_Lisner\\\\Desktop\\\\Work\\\\lisner_utils'...\n",
      "Listing 'C:\\\\Users\\\\Jacob_Lisner\\\\Documents\\\\GitHub\\\\lisner_utils2'...\n",
      "Listing 'c:\\\\Users\\\\Jacob_Lisner\\\\anaconda3\\\\lib\\\\site-packages\\\\win32'...\n",
      "Listing 'c:\\\\Users\\\\Jacob_Lisner\\\\anaconda3\\\\lib\\\\site-packages\\\\win32\\\\lib'...\n",
      "Listing 'c:\\\\Users\\\\Jacob_Lisner\\\\anaconda3\\\\lib\\\\site-packages\\\\Pythonwin'...\n"
     ]
    }
   ],
   "source": [
    "!python -m compileall"
   ]
  }
 ],
 "metadata": {
  "kernelspec": {
   "display_name": "base",
   "language": "python",
   "name": "python3"
  },
  "language_info": {
   "codemirror_mode": {
    "name": "ipython",
    "version": 3
   },
   "file_extension": ".py",
   "mimetype": "text/x-python",
   "name": "python",
   "nbconvert_exporter": "python",
   "pygments_lexer": "ipython3",
   "version": "3.9.13"
  }
 },
 "nbformat": 4,
 "nbformat_minor": 2
}
