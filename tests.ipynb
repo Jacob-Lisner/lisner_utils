{
 "cells": [
  {
   "cell_type": "code",
   "execution_count": 1,
   "metadata": {},
   "outputs": [
    {
     "name": "stdout",
     "output_type": "stream",
     "text": [
      "Listing 'c:\\\\Users\\\\Jacob_Lisner\\\\Documents\\\\GitHub\\\\lisner_utils2'...\n",
      "Compiling 'c:\\\\Users\\\\Jacob_Lisner\\\\Documents\\\\GitHub\\\\lisner_utils2\\\\lexicon_counter.py'...\n",
      "Compiling 'c:\\\\Users\\\\Jacob_Lisner\\\\Documents\\\\GitHub\\\\lisner_utils2\\\\multi_process_dump.py'...\n",
      "Listing 'c:\\\\Users\\\\Jacob_Lisner\\\\anaconda3\\\\python39.zip'...\n",
      "Can't list 'c:\\\\Users\\\\Jacob_Lisner\\\\anaconda3\\\\python39.zip'\n",
      "Listing 'c:\\\\Users\\\\Jacob_Lisner\\\\anaconda3\\\\DLLs'...\n",
      "Listing 'c:\\\\Users\\\\Jacob_Lisner\\\\anaconda3\\\\lib'...\n",
      "Listing 'c:\\\\Users\\\\Jacob_Lisner\\\\anaconda3'...\n",
      "Listing 'C:\\\\Users\\\\Jacob_Lisner\\\\AppData\\\\Roaming\\\\Python\\\\Python39\\\\site-packages'...\n",
      "Listing 'C:\\\\Users\\\\Jacob_Lisner\\\\AppData\\\\Roaming\\\\Python\\\\Python39\\\\site-packages\\\\web-0.0.1-py3.9.egg'...\n",
      "Listing 'c:\\\\Users\\\\Jacob_Lisner\\\\anaconda3\\\\lib\\\\site-packages'...\n",
      "Listing 'C:\\\\Users\\\\Jacob_Lisner\\\\Desktop\\\\Work\\\\lisner_utils'...\n",
      "Listing 'C:\\\\Users\\\\Jacob_Lisner\\\\Documents\\\\GitHub\\\\lisner_utils2'...\n",
      "Listing 'c:\\\\Users\\\\Jacob_Lisner\\\\anaconda3\\\\lib\\\\site-packages\\\\win32'...\n",
      "Listing 'c:\\\\Users\\\\Jacob_Lisner\\\\anaconda3\\\\lib\\\\site-packages\\\\win32\\\\lib'...\n",
      "Listing 'c:\\\\Users\\\\Jacob_Lisner\\\\anaconda3\\\\lib\\\\site-packages\\\\Pythonwin'...\n"
     ]
    }
   ],
   "source": [
    "!python -m compileall"
   ]
  },
  {
   "cell_type": "code",
   "execution_count": null,
   "metadata": {},
   "outputs": [],
   "source": [
    "import sys\n",
    "from os.path import dirname\n",
    "sys.path.append(dirname(__file__))"
   ]
  },
  {
   "cell_type": "code",
   "execution_count": 1,
   "metadata": {},
   "outputs": [
    {
     "ename": "ModuleNotFoundError",
     "evalue": "No module named 'lisner_utils2'",
     "output_type": "error",
     "traceback": [
      "\u001b[1;31m---------------------------------------------------------------------------\u001b[0m",
      "\u001b[1;31mModuleNotFoundError\u001b[0m                       Traceback (most recent call last)",
      "Input \u001b[1;32mIn [1]\u001b[0m, in \u001b[0;36m<cell line: 1>\u001b[1;34m()\u001b[0m\n\u001b[1;32m----> 1\u001b[0m \u001b[38;5;28;01mfrom\u001b[39;00m \u001b[38;5;21;01mlisner_utils2\u001b[39;00m \u001b[38;5;28;01mimport\u001b[39;00m lexicon \u001b[38;5;28;01mas\u001b[39;00m lx\n",
      "\u001b[1;31mModuleNotFoundError\u001b[0m: No module named 'lisner_utils2'"
     ]
    }
   ],
   "source": [
    "from lisner_utils2 import lexicon as lx"
   ]
  },
  {
   "cell_type": "code",
   "execution_count": 3,
   "metadata": {},
   "outputs": [
    {
     "ename": "ImportError",
     "evalue": "cannot import name 'lexicon_counter' from 'lisner_utils' (unknown location)",
     "output_type": "error",
     "traceback": [
      "\u001b[1;31m---------------------------------------------------------------------------\u001b[0m",
      "\u001b[1;31mImportError\u001b[0m                               Traceback (most recent call last)",
      "\u001b[1;32m~\\AppData\\Local\\Temp\\ipykernel_42440\\1245634964.py\u001b[0m in \u001b[0;36m<module>\u001b[1;34m\u001b[0m\n\u001b[1;32m----> 1\u001b[1;33m \u001b[1;32mfrom\u001b[0m \u001b[0mlisner_utils\u001b[0m \u001b[1;32mimport\u001b[0m \u001b[0mlexicon_counter\u001b[0m \u001b[1;32mas\u001b[0m \u001b[0mlxc\u001b[0m\u001b[1;33m\u001b[0m\u001b[1;33m\u001b[0m\u001b[0m\n\u001b[0m",
      "\u001b[1;31mImportError\u001b[0m: cannot import name 'lexicon_counter' from 'lisner_utils' (unknown location)"
     ]
    }
   ],
   "source": [
    "from lisner_utils import lexicon_counter as lxc"
   ]
  }
 ],
 "metadata": {
  "kernelspec": {
   "display_name": "base",
   "language": "python",
   "name": "python3"
  },
  "language_info": {
   "codemirror_mode": {
    "name": "ipython",
    "version": 3
   },
   "file_extension": ".py",
   "mimetype": "text/x-python",
   "name": "python",
   "nbconvert_exporter": "python",
   "pygments_lexer": "ipython3",
   "version": "3.9.13"
  }
 },
 "nbformat": 4,
 "nbformat_minor": 2
}
